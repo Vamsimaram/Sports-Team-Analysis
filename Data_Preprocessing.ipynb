{
  "metadata": {
    "kernelspec": {
      "name": "python",
      "display_name": "Python (Pyodide)",
      "language": "python"
    },
    "language_info": {
      "codemirror_mode": {
        "name": "python",
        "version": 3
      },
      "file_extension": ".py",
      "mimetype": "text/x-python",
      "name": "python",
      "nbconvert_exporter": "python",
      "pygments_lexer": "ipython3",
      "version": "3.8"
    }
  },
  "nbformat_minor": 4,
  "nbformat": 4,
  "cells": [
    {
      "cell_type": "code",
      "source": "import pandas as pd\nimport json",
      "metadata": {
        "trusted": true
      },
      "outputs": [],
      "execution_count": 2
    },
    {
      "cell_type": "markdown",
      "source": "match results",
      "metadata": {}
    },
    {
      "cell_type": "code",
      "source": "with open('t20_json_files/t20_wc_match_results.json') as f:\n    data=json.load(f)\ndf_match=pd.DataFrame(data[0]['matchSummary'])\ndf_match.head()",
      "metadata": {
        "trusted": true
      },
      "outputs": [
        {
          "execution_count": 6,
          "output_type": "execute_result",
          "data": {
            "text/plain": "         team1        team2       winner     margin   ground     matchDate  \\\n0      Namibia    Sri Lanka      Namibia    55 runs  Geelong  Oct 16, 2022   \n1  Netherlands       U.A.E.  Netherlands  3 wickets  Geelong  Oct 16, 2022   \n2     Scotland  West Indies     Scotland    42 runs   Hobart  Oct 17, 2022   \n3      Ireland     Zimbabwe     Zimbabwe    31 runs   Hobart  Oct 17, 2022   \n4      Namibia  Netherlands  Netherlands  5 wickets  Geelong  Oct 18, 2022   \n\n     scorecard  \n0  T20I # 1823  \n1  T20I # 1825  \n2  T20I # 1826  \n3  T20I # 1828  \n4  T20I # 1830  ",
            "text/html": "<div>\n<style scoped>\n    .dataframe tbody tr th:only-of-type {\n        vertical-align: middle;\n    }\n\n    .dataframe tbody tr th {\n        vertical-align: top;\n    }\n\n    .dataframe thead th {\n        text-align: right;\n    }\n</style>\n<table border=\"1\" class=\"dataframe\">\n  <thead>\n    <tr style=\"text-align: right;\">\n      <th></th>\n      <th>team1</th>\n      <th>team2</th>\n      <th>winner</th>\n      <th>margin</th>\n      <th>ground</th>\n      <th>matchDate</th>\n      <th>scorecard</th>\n    </tr>\n  </thead>\n  <tbody>\n    <tr>\n      <th>0</th>\n      <td>Namibia</td>\n      <td>Sri Lanka</td>\n      <td>Namibia</td>\n      <td>55 runs</td>\n      <td>Geelong</td>\n      <td>Oct 16, 2022</td>\n      <td>T20I # 1823</td>\n    </tr>\n    <tr>\n      <th>1</th>\n      <td>Netherlands</td>\n      <td>U.A.E.</td>\n      <td>Netherlands</td>\n      <td>3 wickets</td>\n      <td>Geelong</td>\n      <td>Oct 16, 2022</td>\n      <td>T20I # 1825</td>\n    </tr>\n    <tr>\n      <th>2</th>\n      <td>Scotland</td>\n      <td>West Indies</td>\n      <td>Scotland</td>\n      <td>42 runs</td>\n      <td>Hobart</td>\n      <td>Oct 17, 2022</td>\n      <td>T20I # 1826</td>\n    </tr>\n    <tr>\n      <th>3</th>\n      <td>Ireland</td>\n      <td>Zimbabwe</td>\n      <td>Zimbabwe</td>\n      <td>31 runs</td>\n      <td>Hobart</td>\n      <td>Oct 17, 2022</td>\n      <td>T20I # 1828</td>\n    </tr>\n    <tr>\n      <th>4</th>\n      <td>Namibia</td>\n      <td>Netherlands</td>\n      <td>Netherlands</td>\n      <td>5 wickets</td>\n      <td>Geelong</td>\n      <td>Oct 18, 2022</td>\n      <td>T20I # 1830</td>\n    </tr>\n  </tbody>\n</table>\n</div>"
          },
          "metadata": {}
        }
      ],
      "execution_count": 6
    },
    {
      "cell_type": "code",
      "source": "df_match.shape",
      "metadata": {
        "trusted": true
      },
      "outputs": [
        {
          "execution_count": 7,
          "output_type": "execute_result",
          "data": {
            "text/plain": "(45, 7)"
          },
          "metadata": {}
        }
      ],
      "execution_count": 7
    },
    {
      "cell_type": "code",
      "source": "df_match.rename({'scorecard':'match_id'}, axis=1, inplace=True)\ndf_match.head()",
      "metadata": {
        "trusted": true,
        "scrolled": true
      },
      "outputs": [
        {
          "execution_count": 8,
          "output_type": "execute_result",
          "data": {
            "text/plain": "         team1        team2       winner     margin   ground     matchDate  \\\n0      Namibia    Sri Lanka      Namibia    55 runs  Geelong  Oct 16, 2022   \n1  Netherlands       U.A.E.  Netherlands  3 wickets  Geelong  Oct 16, 2022   \n2     Scotland  West Indies     Scotland    42 runs   Hobart  Oct 17, 2022   \n3      Ireland     Zimbabwe     Zimbabwe    31 runs   Hobart  Oct 17, 2022   \n4      Namibia  Netherlands  Netherlands  5 wickets  Geelong  Oct 18, 2022   \n\n      match_id  \n0  T20I # 1823  \n1  T20I # 1825  \n2  T20I # 1826  \n3  T20I # 1828  \n4  T20I # 1830  ",
            "text/html": "<div>\n<style scoped>\n    .dataframe tbody tr th:only-of-type {\n        vertical-align: middle;\n    }\n\n    .dataframe tbody tr th {\n        vertical-align: top;\n    }\n\n    .dataframe thead th {\n        text-align: right;\n    }\n</style>\n<table border=\"1\" class=\"dataframe\">\n  <thead>\n    <tr style=\"text-align: right;\">\n      <th></th>\n      <th>team1</th>\n      <th>team2</th>\n      <th>winner</th>\n      <th>margin</th>\n      <th>ground</th>\n      <th>matchDate</th>\n      <th>match_id</th>\n    </tr>\n  </thead>\n  <tbody>\n    <tr>\n      <th>0</th>\n      <td>Namibia</td>\n      <td>Sri Lanka</td>\n      <td>Namibia</td>\n      <td>55 runs</td>\n      <td>Geelong</td>\n      <td>Oct 16, 2022</td>\n      <td>T20I # 1823</td>\n    </tr>\n    <tr>\n      <th>1</th>\n      <td>Netherlands</td>\n      <td>U.A.E.</td>\n      <td>Netherlands</td>\n      <td>3 wickets</td>\n      <td>Geelong</td>\n      <td>Oct 16, 2022</td>\n      <td>T20I # 1825</td>\n    </tr>\n    <tr>\n      <th>2</th>\n      <td>Scotland</td>\n      <td>West Indies</td>\n      <td>Scotland</td>\n      <td>42 runs</td>\n      <td>Hobart</td>\n      <td>Oct 17, 2022</td>\n      <td>T20I # 1826</td>\n    </tr>\n    <tr>\n      <th>3</th>\n      <td>Ireland</td>\n      <td>Zimbabwe</td>\n      <td>Zimbabwe</td>\n      <td>31 runs</td>\n      <td>Hobart</td>\n      <td>Oct 17, 2022</td>\n      <td>T20I # 1828</td>\n    </tr>\n    <tr>\n      <th>4</th>\n      <td>Namibia</td>\n      <td>Netherlands</td>\n      <td>Netherlands</td>\n      <td>5 wickets</td>\n      <td>Geelong</td>\n      <td>Oct 18, 2022</td>\n      <td>T20I # 1830</td>\n    </tr>\n  </tbody>\n</table>\n</div>"
          },
          "metadata": {}
        }
      ],
      "execution_count": 8
    },
    {
      "cell_type": "code",
      "source": "match_ids_dict = {}\n\nfor index, row in df_match.iterrows():\n    key1 = row['team1'] + ' Vs ' + row['team2']\n    key2 = row['team2'] + ' Vs ' + row['team1']\n    match_ids_dict[key1] = row['match_id']\n    match_ids_dict[key2] = row['match_id']",
      "metadata": {
        "trusted": true
      },
      "outputs": [],
      "execution_count": 17
    },
    {
      "cell_type": "markdown",
      "source": "Batting Summary",
      "metadata": {}
    },
    {
      "cell_type": "code",
      "source": "with open('t20_json_files/t20_wc_batting_summary.json') as f:\n    data=json.load(f)\n\n    all_records=[]\n\n    for rec in data:\n        all_records.extend(rec['battingSummary'])\n\ndf_batting=pd.DataFrame(all_records)\ndf_batting.head(11)",
      "metadata": {
        "trusted": true
      },
      "outputs": [
        {
          "execution_count": 12,
          "output_type": "execute_result",
          "data": {
            "text/plain": "                   match teamInnings  battingPos             batsmanName  \\\n0   Namibia Vs Sri Lanka     Namibia           1      Michael van Lingen   \n1   Namibia Vs Sri Lanka     Namibia           2           Divan la Cock   \n2   Namibia Vs Sri Lanka     Namibia           3  Jan Nicol Loftie-Eaton   \n3   Namibia Vs Sri Lanka     Namibia           4           Stephan Baard   \n4   Namibia Vs Sri Lanka     Namibia           5      Gerhard Erasmus(c)   \n5   Namibia Vs Sri Lanka     Namibia           6            Jan Frylinck   \n6   Namibia Vs Sri Lanka     Namibia           7             David Wiese   \n7   Namibia Vs Sri Lanka     Namibia           8                 JJ Smit   \n8   Namibia Vs Sri Lanka   Sri Lanka           1         Pathum Nissanka   \n9   Namibia Vs Sri Lanka   Sri Lanka           2           Kusal Mendis†   \n10  Namibia Vs Sri Lanka   Sri Lanka           3     Dhananjaya de Silva   \n\n                          dismissal runs balls 4s 6s      SR  \n0      c Pramod Madushan b Chameera    3     6  0  0   50.00  \n1       c Shanaka b Pramod Madushan    9     9  1  0  100.00  \n2           c †Mendis b Karunaratne   20    12  1  2  166.66  \n3   c DM de Silva b Pramod Madushan   26    24  2  0  108.33  \n4      c Gunathilaka b PWH de Silva   20    24  0  0   83.33  \n5     run out (Gunathilaka/†Mendis)   44    28  4  0  157.14  \n6            c †Mendis b Theekshana    0     1  0  0    0.00  \n7                                     31    16  2  2  193.75  \n8                 c Smit b Shikongo    9    10  1  0   90.00  \n9                  c †Green b Wiese    6     6  0  0  100.00  \n10            c Shikongo b Frylinck   12    11  1  0  109.09  ",
            "text/html": "<div>\n<style scoped>\n    .dataframe tbody tr th:only-of-type {\n        vertical-align: middle;\n    }\n\n    .dataframe tbody tr th {\n        vertical-align: top;\n    }\n\n    .dataframe thead th {\n        text-align: right;\n    }\n</style>\n<table border=\"1\" class=\"dataframe\">\n  <thead>\n    <tr style=\"text-align: right;\">\n      <th></th>\n      <th>match</th>\n      <th>teamInnings</th>\n      <th>battingPos</th>\n      <th>batsmanName</th>\n      <th>dismissal</th>\n      <th>runs</th>\n      <th>balls</th>\n      <th>4s</th>\n      <th>6s</th>\n      <th>SR</th>\n    </tr>\n  </thead>\n  <tbody>\n    <tr>\n      <th>0</th>\n      <td>Namibia Vs Sri Lanka</td>\n      <td>Namibia</td>\n      <td>1</td>\n      <td>Michael van Lingen</td>\n      <td>c Pramod Madushan b Chameera</td>\n      <td>3</td>\n      <td>6</td>\n      <td>0</td>\n      <td>0</td>\n      <td>50.00</td>\n    </tr>\n    <tr>\n      <th>1</th>\n      <td>Namibia Vs Sri Lanka</td>\n      <td>Namibia</td>\n      <td>2</td>\n      <td>Divan la Cock</td>\n      <td>c Shanaka b Pramod Madushan</td>\n      <td>9</td>\n      <td>9</td>\n      <td>1</td>\n      <td>0</td>\n      <td>100.00</td>\n    </tr>\n    <tr>\n      <th>2</th>\n      <td>Namibia Vs Sri Lanka</td>\n      <td>Namibia</td>\n      <td>3</td>\n      <td>Jan Nicol Loftie-Eaton</td>\n      <td>c †Mendis b Karunaratne</td>\n      <td>20</td>\n      <td>12</td>\n      <td>1</td>\n      <td>2</td>\n      <td>166.66</td>\n    </tr>\n    <tr>\n      <th>3</th>\n      <td>Namibia Vs Sri Lanka</td>\n      <td>Namibia</td>\n      <td>4</td>\n      <td>Stephan Baard</td>\n      <td>c DM de Silva b Pramod Madushan</td>\n      <td>26</td>\n      <td>24</td>\n      <td>2</td>\n      <td>0</td>\n      <td>108.33</td>\n    </tr>\n    <tr>\n      <th>4</th>\n      <td>Namibia Vs Sri Lanka</td>\n      <td>Namibia</td>\n      <td>5</td>\n      <td>Gerhard Erasmus(c)</td>\n      <td>c Gunathilaka b PWH de Silva</td>\n      <td>20</td>\n      <td>24</td>\n      <td>0</td>\n      <td>0</td>\n      <td>83.33</td>\n    </tr>\n    <tr>\n      <th>5</th>\n      <td>Namibia Vs Sri Lanka</td>\n      <td>Namibia</td>\n      <td>6</td>\n      <td>Jan Frylinck</td>\n      <td>run out (Gunathilaka/†Mendis)</td>\n      <td>44</td>\n      <td>28</td>\n      <td>4</td>\n      <td>0</td>\n      <td>157.14</td>\n    </tr>\n    <tr>\n      <th>6</th>\n      <td>Namibia Vs Sri Lanka</td>\n      <td>Namibia</td>\n      <td>7</td>\n      <td>David Wiese</td>\n      <td>c †Mendis b Theekshana</td>\n      <td>0</td>\n      <td>1</td>\n      <td>0</td>\n      <td>0</td>\n      <td>0.00</td>\n    </tr>\n    <tr>\n      <th>7</th>\n      <td>Namibia Vs Sri Lanka</td>\n      <td>Namibia</td>\n      <td>8</td>\n      <td>JJ Smit</td>\n      <td></td>\n      <td>31</td>\n      <td>16</td>\n      <td>2</td>\n      <td>2</td>\n      <td>193.75</td>\n    </tr>\n    <tr>\n      <th>8</th>\n      <td>Namibia Vs Sri Lanka</td>\n      <td>Sri Lanka</td>\n      <td>1</td>\n      <td>Pathum Nissanka</td>\n      <td>c Smit b Shikongo</td>\n      <td>9</td>\n      <td>10</td>\n      <td>1</td>\n      <td>0</td>\n      <td>90.00</td>\n    </tr>\n    <tr>\n      <th>9</th>\n      <td>Namibia Vs Sri Lanka</td>\n      <td>Sri Lanka</td>\n      <td>2</td>\n      <td>Kusal Mendis†</td>\n      <td>c †Green b Wiese</td>\n      <td>6</td>\n      <td>6</td>\n      <td>0</td>\n      <td>0</td>\n      <td>100.00</td>\n    </tr>\n    <tr>\n      <th>10</th>\n      <td>Namibia Vs Sri Lanka</td>\n      <td>Sri Lanka</td>\n      <td>3</td>\n      <td>Dhananjaya de Silva</td>\n      <td>c Shikongo b Frylinck</td>\n      <td>12</td>\n      <td>11</td>\n      <td>1</td>\n      <td>0</td>\n      <td>109.09</td>\n    </tr>\n  </tbody>\n</table>\n</div>"
          },
          "metadata": {}
        }
      ],
      "execution_count": 12
    },
    {
      "cell_type": "code",
      "source": "df_batting['out/not_out']=df_batting.dismissal.apply(lambda x:\"out\" if len(x)>0 else \"not_out\")\ndf_batting.head(11)",
      "metadata": {
        "trusted": true
      },
      "outputs": [
        {
          "execution_count": 13,
          "output_type": "execute_result",
          "data": {
            "text/plain": "                   match teamInnings  battingPos             batsmanName  \\\n0   Namibia Vs Sri Lanka     Namibia           1      Michael van Lingen   \n1   Namibia Vs Sri Lanka     Namibia           2           Divan la Cock   \n2   Namibia Vs Sri Lanka     Namibia           3  Jan Nicol Loftie-Eaton   \n3   Namibia Vs Sri Lanka     Namibia           4           Stephan Baard   \n4   Namibia Vs Sri Lanka     Namibia           5      Gerhard Erasmus(c)   \n5   Namibia Vs Sri Lanka     Namibia           6            Jan Frylinck   \n6   Namibia Vs Sri Lanka     Namibia           7             David Wiese   \n7   Namibia Vs Sri Lanka     Namibia           8                 JJ Smit   \n8   Namibia Vs Sri Lanka   Sri Lanka           1         Pathum Nissanka   \n9   Namibia Vs Sri Lanka   Sri Lanka           2           Kusal Mendis†   \n10  Namibia Vs Sri Lanka   Sri Lanka           3     Dhananjaya de Silva   \n\n                          dismissal runs balls 4s 6s      SR out/not_out  \n0      c Pramod Madushan b Chameera    3     6  0  0   50.00         out  \n1       c Shanaka b Pramod Madushan    9     9  1  0  100.00         out  \n2           c †Mendis b Karunaratne   20    12  1  2  166.66         out  \n3   c DM de Silva b Pramod Madushan   26    24  2  0  108.33         out  \n4      c Gunathilaka b PWH de Silva   20    24  0  0   83.33         out  \n5     run out (Gunathilaka/†Mendis)   44    28  4  0  157.14         out  \n6            c †Mendis b Theekshana    0     1  0  0    0.00         out  \n7                                     31    16  2  2  193.75     not_out  \n8                 c Smit b Shikongo    9    10  1  0   90.00         out  \n9                  c †Green b Wiese    6     6  0  0  100.00         out  \n10            c Shikongo b Frylinck   12    11  1  0  109.09         out  ",
            "text/html": "<div>\n<style scoped>\n    .dataframe tbody tr th:only-of-type {\n        vertical-align: middle;\n    }\n\n    .dataframe tbody tr th {\n        vertical-align: top;\n    }\n\n    .dataframe thead th {\n        text-align: right;\n    }\n</style>\n<table border=\"1\" class=\"dataframe\">\n  <thead>\n    <tr style=\"text-align: right;\">\n      <th></th>\n      <th>match</th>\n      <th>teamInnings</th>\n      <th>battingPos</th>\n      <th>batsmanName</th>\n      <th>dismissal</th>\n      <th>runs</th>\n      <th>balls</th>\n      <th>4s</th>\n      <th>6s</th>\n      <th>SR</th>\n      <th>out/not_out</th>\n    </tr>\n  </thead>\n  <tbody>\n    <tr>\n      <th>0</th>\n      <td>Namibia Vs Sri Lanka</td>\n      <td>Namibia</td>\n      <td>1</td>\n      <td>Michael van Lingen</td>\n      <td>c Pramod Madushan b Chameera</td>\n      <td>3</td>\n      <td>6</td>\n      <td>0</td>\n      <td>0</td>\n      <td>50.00</td>\n      <td>out</td>\n    </tr>\n    <tr>\n      <th>1</th>\n      <td>Namibia Vs Sri Lanka</td>\n      <td>Namibia</td>\n      <td>2</td>\n      <td>Divan la Cock</td>\n      <td>c Shanaka b Pramod Madushan</td>\n      <td>9</td>\n      <td>9</td>\n      <td>1</td>\n      <td>0</td>\n      <td>100.00</td>\n      <td>out</td>\n    </tr>\n    <tr>\n      <th>2</th>\n      <td>Namibia Vs Sri Lanka</td>\n      <td>Namibia</td>\n      <td>3</td>\n      <td>Jan Nicol Loftie-Eaton</td>\n      <td>c †Mendis b Karunaratne</td>\n      <td>20</td>\n      <td>12</td>\n      <td>1</td>\n      <td>2</td>\n      <td>166.66</td>\n      <td>out</td>\n    </tr>\n    <tr>\n      <th>3</th>\n      <td>Namibia Vs Sri Lanka</td>\n      <td>Namibia</td>\n      <td>4</td>\n      <td>Stephan Baard</td>\n      <td>c DM de Silva b Pramod Madushan</td>\n      <td>26</td>\n      <td>24</td>\n      <td>2</td>\n      <td>0</td>\n      <td>108.33</td>\n      <td>out</td>\n    </tr>\n    <tr>\n      <th>4</th>\n      <td>Namibia Vs Sri Lanka</td>\n      <td>Namibia</td>\n      <td>5</td>\n      <td>Gerhard Erasmus(c)</td>\n      <td>c Gunathilaka b PWH de Silva</td>\n      <td>20</td>\n      <td>24</td>\n      <td>0</td>\n      <td>0</td>\n      <td>83.33</td>\n      <td>out</td>\n    </tr>\n    <tr>\n      <th>5</th>\n      <td>Namibia Vs Sri Lanka</td>\n      <td>Namibia</td>\n      <td>6</td>\n      <td>Jan Frylinck</td>\n      <td>run out (Gunathilaka/†Mendis)</td>\n      <td>44</td>\n      <td>28</td>\n      <td>4</td>\n      <td>0</td>\n      <td>157.14</td>\n      <td>out</td>\n    </tr>\n    <tr>\n      <th>6</th>\n      <td>Namibia Vs Sri Lanka</td>\n      <td>Namibia</td>\n      <td>7</td>\n      <td>David Wiese</td>\n      <td>c †Mendis b Theekshana</td>\n      <td>0</td>\n      <td>1</td>\n      <td>0</td>\n      <td>0</td>\n      <td>0.00</td>\n      <td>out</td>\n    </tr>\n    <tr>\n      <th>7</th>\n      <td>Namibia Vs Sri Lanka</td>\n      <td>Namibia</td>\n      <td>8</td>\n      <td>JJ Smit</td>\n      <td></td>\n      <td>31</td>\n      <td>16</td>\n      <td>2</td>\n      <td>2</td>\n      <td>193.75</td>\n      <td>not_out</td>\n    </tr>\n    <tr>\n      <th>8</th>\n      <td>Namibia Vs Sri Lanka</td>\n      <td>Sri Lanka</td>\n      <td>1</td>\n      <td>Pathum Nissanka</td>\n      <td>c Smit b Shikongo</td>\n      <td>9</td>\n      <td>10</td>\n      <td>1</td>\n      <td>0</td>\n      <td>90.00</td>\n      <td>out</td>\n    </tr>\n    <tr>\n      <th>9</th>\n      <td>Namibia Vs Sri Lanka</td>\n      <td>Sri Lanka</td>\n      <td>2</td>\n      <td>Kusal Mendis†</td>\n      <td>c †Green b Wiese</td>\n      <td>6</td>\n      <td>6</td>\n      <td>0</td>\n      <td>0</td>\n      <td>100.00</td>\n      <td>out</td>\n    </tr>\n    <tr>\n      <th>10</th>\n      <td>Namibia Vs Sri Lanka</td>\n      <td>Sri Lanka</td>\n      <td>3</td>\n      <td>Dhananjaya de Silva</td>\n      <td>c Shikongo b Frylinck</td>\n      <td>12</td>\n      <td>11</td>\n      <td>1</td>\n      <td>0</td>\n      <td>109.09</td>\n      <td>out</td>\n    </tr>\n  </tbody>\n</table>\n</div>"
          },
          "metadata": {}
        }
      ],
      "execution_count": 13
    },
    {
      "cell_type": "code",
      "source": "df_batting.drop(columns=[\"dismissal\"],inplace=True)\ndf_batting.head(11)",
      "metadata": {
        "trusted": true
      },
      "outputs": [
        {
          "execution_count": 14,
          "output_type": "execute_result",
          "data": {
            "text/plain": "                   match teamInnings  battingPos             batsmanName runs  \\\n0   Namibia Vs Sri Lanka     Namibia           1      Michael van Lingen    3   \n1   Namibia Vs Sri Lanka     Namibia           2           Divan la Cock    9   \n2   Namibia Vs Sri Lanka     Namibia           3  Jan Nicol Loftie-Eaton   20   \n3   Namibia Vs Sri Lanka     Namibia           4           Stephan Baard   26   \n4   Namibia Vs Sri Lanka     Namibia           5      Gerhard Erasmus(c)   20   \n5   Namibia Vs Sri Lanka     Namibia           6            Jan Frylinck   44   \n6   Namibia Vs Sri Lanka     Namibia           7             David Wiese    0   \n7   Namibia Vs Sri Lanka     Namibia           8                 JJ Smit   31   \n8   Namibia Vs Sri Lanka   Sri Lanka           1         Pathum Nissanka    9   \n9   Namibia Vs Sri Lanka   Sri Lanka           2           Kusal Mendis†    6   \n10  Namibia Vs Sri Lanka   Sri Lanka           3     Dhananjaya de Silva   12   \n\n   balls 4s 6s      SR out/not_out  \n0      6  0  0   50.00         out  \n1      9  1  0  100.00         out  \n2     12  1  2  166.66         out  \n3     24  2  0  108.33         out  \n4     24  0  0   83.33         out  \n5     28  4  0  157.14         out  \n6      1  0  0    0.00         out  \n7     16  2  2  193.75     not_out  \n8     10  1  0   90.00         out  \n9      6  0  0  100.00         out  \n10    11  1  0  109.09         out  ",
            "text/html": "<div>\n<style scoped>\n    .dataframe tbody tr th:only-of-type {\n        vertical-align: middle;\n    }\n\n    .dataframe tbody tr th {\n        vertical-align: top;\n    }\n\n    .dataframe thead th {\n        text-align: right;\n    }\n</style>\n<table border=\"1\" class=\"dataframe\">\n  <thead>\n    <tr style=\"text-align: right;\">\n      <th></th>\n      <th>match</th>\n      <th>teamInnings</th>\n      <th>battingPos</th>\n      <th>batsmanName</th>\n      <th>runs</th>\n      <th>balls</th>\n      <th>4s</th>\n      <th>6s</th>\n      <th>SR</th>\n      <th>out/not_out</th>\n    </tr>\n  </thead>\n  <tbody>\n    <tr>\n      <th>0</th>\n      <td>Namibia Vs Sri Lanka</td>\n      <td>Namibia</td>\n      <td>1</td>\n      <td>Michael van Lingen</td>\n      <td>3</td>\n      <td>6</td>\n      <td>0</td>\n      <td>0</td>\n      <td>50.00</td>\n      <td>out</td>\n    </tr>\n    <tr>\n      <th>1</th>\n      <td>Namibia Vs Sri Lanka</td>\n      <td>Namibia</td>\n      <td>2</td>\n      <td>Divan la Cock</td>\n      <td>9</td>\n      <td>9</td>\n      <td>1</td>\n      <td>0</td>\n      <td>100.00</td>\n      <td>out</td>\n    </tr>\n    <tr>\n      <th>2</th>\n      <td>Namibia Vs Sri Lanka</td>\n      <td>Namibia</td>\n      <td>3</td>\n      <td>Jan Nicol Loftie-Eaton</td>\n      <td>20</td>\n      <td>12</td>\n      <td>1</td>\n      <td>2</td>\n      <td>166.66</td>\n      <td>out</td>\n    </tr>\n    <tr>\n      <th>3</th>\n      <td>Namibia Vs Sri Lanka</td>\n      <td>Namibia</td>\n      <td>4</td>\n      <td>Stephan Baard</td>\n      <td>26</td>\n      <td>24</td>\n      <td>2</td>\n      <td>0</td>\n      <td>108.33</td>\n      <td>out</td>\n    </tr>\n    <tr>\n      <th>4</th>\n      <td>Namibia Vs Sri Lanka</td>\n      <td>Namibia</td>\n      <td>5</td>\n      <td>Gerhard Erasmus(c)</td>\n      <td>20</td>\n      <td>24</td>\n      <td>0</td>\n      <td>0</td>\n      <td>83.33</td>\n      <td>out</td>\n    </tr>\n    <tr>\n      <th>5</th>\n      <td>Namibia Vs Sri Lanka</td>\n      <td>Namibia</td>\n      <td>6</td>\n      <td>Jan Frylinck</td>\n      <td>44</td>\n      <td>28</td>\n      <td>4</td>\n      <td>0</td>\n      <td>157.14</td>\n      <td>out</td>\n    </tr>\n    <tr>\n      <th>6</th>\n      <td>Namibia Vs Sri Lanka</td>\n      <td>Namibia</td>\n      <td>7</td>\n      <td>David Wiese</td>\n      <td>0</td>\n      <td>1</td>\n      <td>0</td>\n      <td>0</td>\n      <td>0.00</td>\n      <td>out</td>\n    </tr>\n    <tr>\n      <th>7</th>\n      <td>Namibia Vs Sri Lanka</td>\n      <td>Namibia</td>\n      <td>8</td>\n      <td>JJ Smit</td>\n      <td>31</td>\n      <td>16</td>\n      <td>2</td>\n      <td>2</td>\n      <td>193.75</td>\n      <td>not_out</td>\n    </tr>\n    <tr>\n      <th>8</th>\n      <td>Namibia Vs Sri Lanka</td>\n      <td>Sri Lanka</td>\n      <td>1</td>\n      <td>Pathum Nissanka</td>\n      <td>9</td>\n      <td>10</td>\n      <td>1</td>\n      <td>0</td>\n      <td>90.00</td>\n      <td>out</td>\n    </tr>\n    <tr>\n      <th>9</th>\n      <td>Namibia Vs Sri Lanka</td>\n      <td>Sri Lanka</td>\n      <td>2</td>\n      <td>Kusal Mendis†</td>\n      <td>6</td>\n      <td>6</td>\n      <td>0</td>\n      <td>0</td>\n      <td>100.00</td>\n      <td>out</td>\n    </tr>\n    <tr>\n      <th>10</th>\n      <td>Namibia Vs Sri Lanka</td>\n      <td>Sri Lanka</td>\n      <td>3</td>\n      <td>Dhananjaya de Silva</td>\n      <td>12</td>\n      <td>11</td>\n      <td>1</td>\n      <td>0</td>\n      <td>109.09</td>\n      <td>out</td>\n    </tr>\n  </tbody>\n</table>\n</div>"
          },
          "metadata": {}
        }
      ],
      "execution_count": 14
    },
    {
      "cell_type": "code",
      "source": "df_batting['batsmanName'] = df_batting['batsmanName'].apply(lambda x: x.replace('â€', ''))\ndf_batting['batsmanName'] = df_batting['batsmanName'].apply(lambda x: x.replace('\\xa0', ''))\ndf_batting.head(11)",
      "metadata": {
        "trusted": true
      },
      "outputs": [
        {
          "execution_count": 16,
          "output_type": "execute_result",
          "data": {
            "text/plain": "                   match teamInnings  battingPos             batsmanName runs  \\\n0   Namibia Vs Sri Lanka     Namibia           1      Michael van Lingen    3   \n1   Namibia Vs Sri Lanka     Namibia           2           Divan la Cock    9   \n2   Namibia Vs Sri Lanka     Namibia           3  Jan Nicol Loftie-Eaton   20   \n3   Namibia Vs Sri Lanka     Namibia           4           Stephan Baard   26   \n4   Namibia Vs Sri Lanka     Namibia           5      Gerhard Erasmus(c)   20   \n5   Namibia Vs Sri Lanka     Namibia           6            Jan Frylinck   44   \n6   Namibia Vs Sri Lanka     Namibia           7             David Wiese    0   \n7   Namibia Vs Sri Lanka     Namibia           8                 JJ Smit   31   \n8   Namibia Vs Sri Lanka   Sri Lanka           1         Pathum Nissanka    9   \n9   Namibia Vs Sri Lanka   Sri Lanka           2           Kusal Mendis†    6   \n10  Namibia Vs Sri Lanka   Sri Lanka           3     Dhananjaya de Silva   12   \n\n   balls 4s 6s      SR out/not_out  \n0      6  0  0   50.00         out  \n1      9  1  0  100.00         out  \n2     12  1  2  166.66         out  \n3     24  2  0  108.33         out  \n4     24  0  0   83.33         out  \n5     28  4  0  157.14         out  \n6      1  0  0    0.00         out  \n7     16  2  2  193.75     not_out  \n8     10  1  0   90.00         out  \n9      6  0  0  100.00         out  \n10    11  1  0  109.09         out  ",
            "text/html": "<div>\n<style scoped>\n    .dataframe tbody tr th:only-of-type {\n        vertical-align: middle;\n    }\n\n    .dataframe tbody tr th {\n        vertical-align: top;\n    }\n\n    .dataframe thead th {\n        text-align: right;\n    }\n</style>\n<table border=\"1\" class=\"dataframe\">\n  <thead>\n    <tr style=\"text-align: right;\">\n      <th></th>\n      <th>match</th>\n      <th>teamInnings</th>\n      <th>battingPos</th>\n      <th>batsmanName</th>\n      <th>runs</th>\n      <th>balls</th>\n      <th>4s</th>\n      <th>6s</th>\n      <th>SR</th>\n      <th>out/not_out</th>\n    </tr>\n  </thead>\n  <tbody>\n    <tr>\n      <th>0</th>\n      <td>Namibia Vs Sri Lanka</td>\n      <td>Namibia</td>\n      <td>1</td>\n      <td>Michael van Lingen</td>\n      <td>3</td>\n      <td>6</td>\n      <td>0</td>\n      <td>0</td>\n      <td>50.00</td>\n      <td>out</td>\n    </tr>\n    <tr>\n      <th>1</th>\n      <td>Namibia Vs Sri Lanka</td>\n      <td>Namibia</td>\n      <td>2</td>\n      <td>Divan la Cock</td>\n      <td>9</td>\n      <td>9</td>\n      <td>1</td>\n      <td>0</td>\n      <td>100.00</td>\n      <td>out</td>\n    </tr>\n    <tr>\n      <th>2</th>\n      <td>Namibia Vs Sri Lanka</td>\n      <td>Namibia</td>\n      <td>3</td>\n      <td>Jan Nicol Loftie-Eaton</td>\n      <td>20</td>\n      <td>12</td>\n      <td>1</td>\n      <td>2</td>\n      <td>166.66</td>\n      <td>out</td>\n    </tr>\n    <tr>\n      <th>3</th>\n      <td>Namibia Vs Sri Lanka</td>\n      <td>Namibia</td>\n      <td>4</td>\n      <td>Stephan Baard</td>\n      <td>26</td>\n      <td>24</td>\n      <td>2</td>\n      <td>0</td>\n      <td>108.33</td>\n      <td>out</td>\n    </tr>\n    <tr>\n      <th>4</th>\n      <td>Namibia Vs Sri Lanka</td>\n      <td>Namibia</td>\n      <td>5</td>\n      <td>Gerhard Erasmus(c)</td>\n      <td>20</td>\n      <td>24</td>\n      <td>0</td>\n      <td>0</td>\n      <td>83.33</td>\n      <td>out</td>\n    </tr>\n    <tr>\n      <th>5</th>\n      <td>Namibia Vs Sri Lanka</td>\n      <td>Namibia</td>\n      <td>6</td>\n      <td>Jan Frylinck</td>\n      <td>44</td>\n      <td>28</td>\n      <td>4</td>\n      <td>0</td>\n      <td>157.14</td>\n      <td>out</td>\n    </tr>\n    <tr>\n      <th>6</th>\n      <td>Namibia Vs Sri Lanka</td>\n      <td>Namibia</td>\n      <td>7</td>\n      <td>David Wiese</td>\n      <td>0</td>\n      <td>1</td>\n      <td>0</td>\n      <td>0</td>\n      <td>0.00</td>\n      <td>out</td>\n    </tr>\n    <tr>\n      <th>7</th>\n      <td>Namibia Vs Sri Lanka</td>\n      <td>Namibia</td>\n      <td>8</td>\n      <td>JJ Smit</td>\n      <td>31</td>\n      <td>16</td>\n      <td>2</td>\n      <td>2</td>\n      <td>193.75</td>\n      <td>not_out</td>\n    </tr>\n    <tr>\n      <th>8</th>\n      <td>Namibia Vs Sri Lanka</td>\n      <td>Sri Lanka</td>\n      <td>1</td>\n      <td>Pathum Nissanka</td>\n      <td>9</td>\n      <td>10</td>\n      <td>1</td>\n      <td>0</td>\n      <td>90.00</td>\n      <td>out</td>\n    </tr>\n    <tr>\n      <th>9</th>\n      <td>Namibia Vs Sri Lanka</td>\n      <td>Sri Lanka</td>\n      <td>2</td>\n      <td>Kusal Mendis†</td>\n      <td>6</td>\n      <td>6</td>\n      <td>0</td>\n      <td>0</td>\n      <td>100.00</td>\n      <td>out</td>\n    </tr>\n    <tr>\n      <th>10</th>\n      <td>Namibia Vs Sri Lanka</td>\n      <td>Sri Lanka</td>\n      <td>3</td>\n      <td>Dhananjaya de Silva</td>\n      <td>12</td>\n      <td>11</td>\n      <td>1</td>\n      <td>0</td>\n      <td>109.09</td>\n      <td>out</td>\n    </tr>\n  </tbody>\n</table>\n</div>"
          },
          "metadata": {}
        }
      ],
      "execution_count": 16
    },
    {
      "cell_type": "code",
      "source": " df_batting[\"match_id\"]=df_batting[\"match\"].map(match_ids_dict)\n\ndf_batting.head()",
      "metadata": {
        "trusted": true
      },
      "outputs": [
        {
          "execution_count": 19,
          "output_type": "execute_result",
          "data": {
            "text/plain": "                  match teamInnings  battingPos             batsmanName runs  \\\n0  Namibia Vs Sri Lanka     Namibia           1      Michael van Lingen    3   \n1  Namibia Vs Sri Lanka     Namibia           2           Divan la Cock    9   \n2  Namibia Vs Sri Lanka     Namibia           3  Jan Nicol Loftie-Eaton   20   \n3  Namibia Vs Sri Lanka     Namibia           4           Stephan Baard   26   \n4  Namibia Vs Sri Lanka     Namibia           5      Gerhard Erasmus(c)   20   \n\n  balls 4s 6s      SR out/not_out     match_id  \n0     6  0  0   50.00         out  T20I # 1823  \n1     9  1  0  100.00         out  T20I # 1823  \n2    12  1  2  166.66         out  T20I # 1823  \n3    24  2  0  108.33         out  T20I # 1823  \n4    24  0  0   83.33         out  T20I # 1823  ",
            "text/html": "<div>\n<style scoped>\n    .dataframe tbody tr th:only-of-type {\n        vertical-align: middle;\n    }\n\n    .dataframe tbody tr th {\n        vertical-align: top;\n    }\n\n    .dataframe thead th {\n        text-align: right;\n    }\n</style>\n<table border=\"1\" class=\"dataframe\">\n  <thead>\n    <tr style=\"text-align: right;\">\n      <th></th>\n      <th>match</th>\n      <th>teamInnings</th>\n      <th>battingPos</th>\n      <th>batsmanName</th>\n      <th>runs</th>\n      <th>balls</th>\n      <th>4s</th>\n      <th>6s</th>\n      <th>SR</th>\n      <th>out/not_out</th>\n      <th>match_id</th>\n    </tr>\n  </thead>\n  <tbody>\n    <tr>\n      <th>0</th>\n      <td>Namibia Vs Sri Lanka</td>\n      <td>Namibia</td>\n      <td>1</td>\n      <td>Michael van Lingen</td>\n      <td>3</td>\n      <td>6</td>\n      <td>0</td>\n      <td>0</td>\n      <td>50.00</td>\n      <td>out</td>\n      <td>T20I # 1823</td>\n    </tr>\n    <tr>\n      <th>1</th>\n      <td>Namibia Vs Sri Lanka</td>\n      <td>Namibia</td>\n      <td>2</td>\n      <td>Divan la Cock</td>\n      <td>9</td>\n      <td>9</td>\n      <td>1</td>\n      <td>0</td>\n      <td>100.00</td>\n      <td>out</td>\n      <td>T20I # 1823</td>\n    </tr>\n    <tr>\n      <th>2</th>\n      <td>Namibia Vs Sri Lanka</td>\n      <td>Namibia</td>\n      <td>3</td>\n      <td>Jan Nicol Loftie-Eaton</td>\n      <td>20</td>\n      <td>12</td>\n      <td>1</td>\n      <td>2</td>\n      <td>166.66</td>\n      <td>out</td>\n      <td>T20I # 1823</td>\n    </tr>\n    <tr>\n      <th>3</th>\n      <td>Namibia Vs Sri Lanka</td>\n      <td>Namibia</td>\n      <td>4</td>\n      <td>Stephan Baard</td>\n      <td>26</td>\n      <td>24</td>\n      <td>2</td>\n      <td>0</td>\n      <td>108.33</td>\n      <td>out</td>\n      <td>T20I # 1823</td>\n    </tr>\n    <tr>\n      <th>4</th>\n      <td>Namibia Vs Sri Lanka</td>\n      <td>Namibia</td>\n      <td>5</td>\n      <td>Gerhard Erasmus(c)</td>\n      <td>20</td>\n      <td>24</td>\n      <td>0</td>\n      <td>0</td>\n      <td>83.33</td>\n      <td>out</td>\n      <td>T20I # 1823</td>\n    </tr>\n  </tbody>\n</table>\n</div>"
          },
          "metadata": {}
        }
      ],
      "execution_count": 19
    },
    {
      "cell_type": "code",
      "source": "df_batting.to_csv('t20_csv_files/fact_bating_summary.csv', index = False)",
      "metadata": {
        "trusted": true
      },
      "outputs": [],
      "execution_count": null
    },
    {
      "cell_type": "markdown",
      "source": "Bowling Summary",
      "metadata": {}
    },
    {
      "cell_type": "code",
      "source": "with open('t20_json_files/t20_wc_bowling_summary.json') as f:\n    data = json.load(f)\n    all_records = []\n    for rec in data:\n        all_records.extend(rec['bowlingSummary'])\nall_records[:2]",
      "metadata": {
        "trusted": true
      },
      "outputs": [],
      "execution_count": null
    },
    {
      "cell_type": "code",
      "source": "df_bowling = pd.DataFrame(all_records)\nprint(df_bowling.shape)\ndf_bowling.head()",
      "metadata": {
        "trusted": true
      },
      "outputs": [],
      "execution_count": null
    },
    {
      "cell_type": "code",
      "source": "df_bowling['match_id'] = df_bowling['match'].map(match_ids_dict)\ndf_bowling.head()",
      "metadata": {
        "trusted": true
      },
      "outputs": [],
      "execution_count": null
    },
    {
      "cell_type": "code",
      "source": "df_bowling.to_csv('t20_csv_files/fact_bowling_summary.csv', index = False)",
      "metadata": {
        "trusted": true
      },
      "outputs": [],
      "execution_count": null
    },
    {
      "cell_type": "markdown",
      "source": "Players Information",
      "metadata": {}
    },
    {
      "cell_type": "code",
      "source": "with open('t20_json_files/t20_wc_player_info.json') as f:\n    data = json.load(f)",
      "metadata": {
        "trusted": true
      },
      "outputs": [],
      "execution_count": null
    },
    {
      "cell_type": "code",
      "source": "df_players = pd.DataFrame(data)\n\nprint(df_players.shape)\ndf_players.head(10)",
      "metadata": {
        "trusted": true
      },
      "outputs": [],
      "execution_count": null
    },
    {
      "cell_type": "code",
      "source": "df_players['name'] = df_players['name'].apply(lambda x: x.replace('â€', ''))\ndf_players['name'] = df_players['name'].apply(lambda x: x.replace('†', ''))\ndf_players['name'] = df_players['name'].apply(lambda x: x.replace('\\xa0', ''))\ndf_players.head(10)",
      "metadata": {
        "trusted": true
      },
      "outputs": [],
      "execution_count": null
    },
    {
      "cell_type": "code",
      "source": "df_players[df_players['team'] == 'India']",
      "metadata": {
        "trusted": true
      },
      "outputs": [],
      "execution_count": null
    },
    {
      "cell_type": "code",
      "source": "df_players.to_csv('t20_csv_files/dim_players_no_images.csv', index = False)",
      "metadata": {
        "trusted": true
      },
      "outputs": [],
      "execution_count": null
    },
    {
      "cell_type": "code",
      "source": "",
      "metadata": {
        "trusted": true
      },
      "outputs": [],
      "execution_count": null
    }
  ]
}